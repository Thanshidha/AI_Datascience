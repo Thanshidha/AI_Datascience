{
  "nbformat": 4,
  "nbformat_minor": 0,
  "metadata": {
    "colab": {
      "name": "python assignment.ipynb",
      "provenance": [],
      "collapsed_sections": []
    },
    "kernelspec": {
      "name": "python3",
      "display_name": "Python 3"
    }
  },
  "cells": [
    {
      "cell_type": "code",
      "metadata": {
        "id": "SGrENWWgdBDZ",
        "colab_type": "code",
        "colab": {
          "base_uri": "https://localhost:8080/",
          "height": 51
        },
        "outputId": "fdb590d2-89ba-4c76-bb93-10a4cbf6bf1a"
      },
      "source": [
        "#1.Input a string of odd length (minimum 9 characters), print a string made of the 3 \n",
        "#middle characters from input string.(eg :- if input is abcdefghi, answer should be def)\n",
        "mystr=input(\"Enter a string : \")\n",
        "x=len(mystr)\n",
        "if x<9 or x%2==0:\n",
        "  print(\"Please enter a string of odd length with minimum 9 characters!!!\")\n",
        "else:\n",
        "  i=(x//2)-1\n",
        "  j=i+3\n",
        "  print(mystr[i:j])"
      ],
      "execution_count": null,
      "outputs": [
        {
          "output_type": "stream",
          "text": [
            "Enter a string : abcdefghi\n",
            "def\n"
          ],
          "name": "stdout"
        }
      ]
    },
    {
      "cell_type": "code",
      "metadata": {
        "id": "KeXcyte0eV8r",
        "colab_type": "code",
        "colab": {
          "base_uri": "https://localhost:8080/",
          "height": 68
        },
        "outputId": "52020d0f-c0fa-48a9-bb84-de15ddc8862a"
      },
      "source": [
        "#2.Calculate the sum and average of first n natural numbers  \n",
        "#a. using for loop \n",
        "#b. using while loop\n",
        "#a:\n",
        "num=int(input(\"Enter the limit: \"))\n",
        "if n<0:\n",
        "  print(\"Please enter a positive integer\")\n",
        "else:\n",
        "  sum=0\n",
        "  avg=0\n",
        "  for i in range(1,n+1):\n",
        "    sum+=i\n",
        "  avg=sum/num\n",
        "print(f'Sum of first {num} natural numbers = ',sum)\n",
        "print(f'Average of first {num} natural numbers = ',avg)\n"
      ],
      "execution_count": null,
      "outputs": [
        {
          "output_type": "stream",
          "text": [
            "Enter the limit: 77\n",
            "Sum of first 77 natural numbers =  36\n",
            "Average of first 77 natural numbers =  0.4675324675324675\n"
          ],
          "name": "stdout"
        }
      ]
    },
    {
      "cell_type": "code",
      "metadata": {
        "id": "z_Vrur-fiaR2",
        "colab_type": "code",
        "colab": {
          "base_uri": "https://localhost:8080/",
          "height": 68
        },
        "outputId": "fc33a290-d7d4-4320-db47-ff3ba5c28a4b"
      },
      "source": [
        "#b:\n",
        "num=int(input(\"Enter the limit: \"))\n",
        "if num<0:\n",
        "  print(\"Please enter a positive integer\")\n",
        "else:\n",
        "  sum=0\n",
        "  i=1\n",
        "  while i<=num:\n",
        "    sum+=i\n",
        "    i=i+1\n",
        "  avg=sum/num\n",
        "  print(f'Sum of first {num} natural numbers',sum)\n",
        "  print(f'Average of first {num} natural numbers',avg)"
      ],
      "execution_count": null,
      "outputs": [
        {
          "output_type": "stream",
          "text": [
            "Enter the limit: 77\n",
            "Sum of first 77 natural numbers 3003\n",
            "Average of first 77 natural numbers 39.0\n"
          ],
          "name": "stdout"
        }
      ]
    },
    {
      "cell_type": "code",
      "metadata": {
        "id": "JYFSQ1yEiyjk",
        "colab_type": "code",
        "colab": {
          "base_uri": "https://localhost:8080/",
          "height": 136
        },
        "outputId": "192af18e-316d-43f6-87fd-2ba9a0a98df8"
      },
      "source": [
        "#3.Accept list of 5 float numbers as input from user using loop and store values in a list \n",
        "\n",
        "list1=[]\n",
        "print(\"Enter 5 float numbers \")\n",
        "for i in range(5):\n",
        "  value=float(input())\n",
        "  list1.append(value)\n",
        "print(list1)"
      ],
      "execution_count": null,
      "outputs": [
        {
          "output_type": "stream",
          "text": [
            "Enter 5 float numbers \n",
            "1.2\n",
            "1.3\n",
            "2.4\n",
            "4.5\n",
            "5.6\n",
            "[1.2, 1.3, 2.4, 4.5, 5.6]\n"
          ],
          "name": "stdout"
        }
      ]
    },
    {
      "cell_type": "code",
      "metadata": {
        "id": "zBytoOn3jrfV",
        "colab_type": "code",
        "colab": {
          "base_uri": "https://localhost:8080/",
          "height": 204
        },
        "outputId": "01102930-7353-478f-e019-02edc59c9692"
      },
      "source": [
        "#4.a.Print the following pattern \n",
        "rows=input(\"Enter the number of rows: \")\n",
        "i=1\n",
        "for i in range(1,int(rows)+1):\n",
        "  for j in range(1,i+1):\n",
        "    print(j,end=\" \")\n",
        "  print(\"\\n\")"
      ],
      "execution_count": null,
      "outputs": [
        {
          "output_type": "stream",
          "text": [
            "Enter the number of rows: 5\n",
            "1 \n",
            "\n",
            "1 2 \n",
            "\n",
            "1 2 3 \n",
            "\n",
            "1 2 3 4 \n",
            "\n",
            "1 2 3 4 5 \n",
            "\n"
          ],
          "name": "stdout"
        }
      ]
    },
    {
      "cell_type": "code",
      "metadata": {
        "id": "7Wc2a15pkRV8",
        "colab_type": "code",
        "colab": {
          "base_uri": "https://localhost:8080/",
          "height": 204
        },
        "outputId": "4763613b-445e-47f0-8722-59fefa4fe21e"
      },
      "source": [
        "#4.b\n",
        "rows=int(input(\"Enter the number of rows: \"))\n",
        "i=1\n",
        "for i in range(rows,0,-1):\n",
        "  for j in range(i,0,-1):\n",
        "    print(j,end=\" \")\n",
        "  print(\"\\n\")\n"
      ],
      "execution_count": null,
      "outputs": [
        {
          "output_type": "stream",
          "text": [
            "Enter the number of rows: 5\n",
            "5 4 3 2 1 \n",
            "\n",
            "4 3 2 1 \n",
            "\n",
            "3 2 1 \n",
            "\n",
            "2 1 \n",
            "\n",
            "1 \n",
            "\n"
          ],
          "name": "stdout"
        }
      ]
    },
    {
      "cell_type": "code",
      "metadata": {
        "id": "3Stxxv6-kzTl",
        "colab_type": "code",
        "colab": {
          "base_uri": "https://localhost:8080/",
          "height": 51
        },
        "outputId": "7ab8aa84-7981-492f-99cd-48b43b6c38d3"
      },
      "source": [
        "#5.input a number, count and print the total number of digits in that number using while \n",
        "#loop \n",
        "num=int(input(\"Enter any number: \"))\n",
        "count=0\n",
        "while num!=0:\n",
        "  num=num//10\n",
        "  count=count+1\n",
        "print(\"Total Number of Digits = \",count)\n"
      ],
      "execution_count": null,
      "outputs": [
        {
          "output_type": "stream",
          "text": [
            "Enter any number: 78\n",
            "Total Number of Digits =  2\n"
          ],
          "name": "stdout"
        }
      ]
    },
    {
      "cell_type": "code",
      "metadata": {
        "id": "oJ3Q4Ov5msQ8",
        "colab_type": "code",
        "colab": {
          "base_uri": "https://localhost:8080/",
          "height": 102
        },
        "outputId": "9aeda165-5469-48a3-cdc2-f721aa6de73e"
      },
      "source": [
        "#8.Reverse the following list using for loop and range [ do not use reverse or \n",
        "#reversed like functions]   \n",
        "#list1 = [10, 20, 30, 4, 50] \n",
        "wordList=[10, 20, 30, 4, 50]\n",
        "for i in range( len(wordList) - 1, -1, -1) :\n",
        "    print(wordList[i])"
      ],
      "execution_count": null,
      "outputs": [
        {
          "output_type": "stream",
          "text": [
            "50\n",
            "4\n",
            "30\n",
            "20\n",
            "10\n"
          ],
          "name": "stdout"
        }
      ]
    },
    {
      "cell_type": "code",
      "metadata": {
        "id": "fVIuSKd7nHX-",
        "colab_type": "code",
        "colab": {
          "base_uri": "https://localhost:8080/",
          "height": 34
        },
        "outputId": "f99c486c-d469-4b55-93f1-4a0252acf09f"
      },
      "source": [
        "#7.program to get the smallest number from a list\n",
        "\n",
        " \n",
        "a=[2, 6, 7, 10, 5, 1, 0]\n",
        "s=a[0]\n",
        "for i in range(0,len(a)):\n",
        "    if s>a[i]:\n",
        "        s=a[i]\n",
        "print(\"The smallest number is : \",s)\n"
      ],
      "execution_count": 9,
      "outputs": [
        {
          "output_type": "stream",
          "text": [
            "The smallest number is :  0\n"
          ],
          "name": "stdout"
        }
      ]
    },
    {
      "cell_type": "code",
      "metadata": {
        "id": "_unIUldtrmKQ",
        "colab_type": "code",
        "colab": {
          "base_uri": "https://localhost:8080/",
          "height": 34
        },
        "outputId": "00e787af-c06e-4c8a-8303-4f3bc105a567"
      },
      "source": [
        "#6.Given two lists. Create a third list by picking an odd-index element from the first list \n",
        "#and even index elements from second. \n",
        "#listOne = [3, 6, 9, 12, 15, 18, 21] \n",
        "#listTwo = [4, 8, 12, 16, 20, 24, 28] \n",
        "listOne = [3, 6, 9, 12, 15, 18, 21]\n",
        "listTwo = [4, 8, 12, 16, 20, 24, 28]\n",
        "listThree=[]\n",
        "for j in range(0,len(listTwo),2):\n",
        "    listThree.insert(j,listTwo[j])\n",
        "for i in range(1,len(listOne),2):\n",
        "    listThree.insert(i,listOne[i])   \n",
        "print(listThree)"
      ],
      "execution_count": null,
      "outputs": [
        {
          "output_type": "stream",
          "text": [
            "[4, 6, 12, 12, 20, 18, 28]\n"
          ],
          "name": "stdout"
        }
      ]
    }
  ]
}