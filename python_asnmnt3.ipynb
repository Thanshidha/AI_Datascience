{
  "nbformat": 4,
  "nbformat_minor": 0,
  "metadata": {
    "colab": {
      "name": "asnmnt3.ipynb",
      "provenance": [],
      "collapsed_sections": []
    },
    "kernelspec": {
      "name": "python3",
      "display_name": "Python 3"
    }
  },
  "cells": [
    {
      "cell_type": "code",
      "metadata": {
        "id": "o88dY_8O9lpY",
        "outputId": "7ff5f509-30fb-44c7-ca07-c1c2be7390d6",
        "colab": {
          "base_uri": "https://localhost:8080/",
          "height": 34
        }
      },
      "source": [
        "#1.Write a function calculation() such that it can accept two variables as arguments and \n",
        "#calculate the addition and subtraction of it. And also it must return both addition and \n",
        "#subtraction in a single return call\n",
        "def calculation(a, b):\n",
        "    return a+b, a-b\n",
        "\n",
        "res = calculation(80, 20)\n",
        "print(res)"
      ],
      "execution_count": 1,
      "outputs": [
        {
          "output_type": "stream",
          "text": [
            "(100, 60)\n"
          ],
          "name": "stdout"
        }
      ]
    },
    {
      "cell_type": "code",
      "metadata": {
        "id": "ykz9Zqhj-8Ua",
        "outputId": "5e41c805-5359-48e4-8982-e8e59aa346da",
        "colab": {
          "base_uri": "https://localhost:8080/",
          "height": 50
        }
      },
      "source": [
        "#2.Create a function showEmployee() in such a way that it should accept employee name, and it's salary\n",
        "# and display both, and if the salary is missing in function call it should show it as 9000\n",
        "def showEmployee(name, salary=9000):\n",
        "    print(\"Employee\", name, \"salary is:\", salary)\n",
        "\n",
        "showEmployee(\"zid\", 9000)\n",
        "showEmployee(\"zid\")"
      ],
      "execution_count": 2,
      "outputs": [
        {
          "output_type": "stream",
          "text": [
            "Employee zid salary is: 9000\n",
            "Employee zid salary is: 9000\n"
          ],
          "name": "stdout"
        }
      ]
    },
    {
      "cell_type": "code",
      "metadata": {
        "id": "fDAEzzApAN3n",
        "outputId": "15baf2dc-af3a-4c74-dd2c-3191c55643a4",
        "colab": {
          "base_uri": "https://localhost:8080/",
          "height": 34
        }
      },
      "source": [
        "#3.Write a function called multipleLetterCount. This function takes in one parameter (a string)\n",
        "# and returns a dictionary with the keys being the letters and the value being the count of the letter\n",
        "def multipleLetterCount(str1):\n",
        "    dict = {}\n",
        "    for n in str1:\n",
        "        keys = dict.keys()\n",
        "        if n in keys:\n",
        "            dict[n] += 1\n",
        "        else:\n",
        "            dict[n] = 1\n",
        "    return dict\n",
        "print(multipleLetterCount('awesome'))"
      ],
      "execution_count": 4,
      "outputs": [
        {
          "output_type": "stream",
          "text": [
            "{'a': 1, 'w': 1, 'e': 2, 's': 1, 'o': 1, 'm': 1}\n"
          ],
          "name": "stdout"
        }
      ]
    }
  ]
}