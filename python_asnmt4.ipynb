{
  "nbformat": 4,
  "nbformat_minor": 0,
  "metadata": {
    "colab": {
      "name": "assignment4.ipynb",
      "provenance": []
    },
    "kernelspec": {
      "name": "python3",
      "display_name": "Python 3"
    }
  },
  "cells": [
    {
      "cell_type": "code",
      "metadata": {
        "id": "2nTnacuDDgkq",
        "outputId": "95476d84-6a3d-473b-da53-7956dce81f05",
        "colab": {
          "base_uri": "https://localhost:8080/",
          "height": 34
        }
      },
      "source": [
        "#1.create a txt file, enter multiple lines of text. read this file line by line and store\n",
        "#it into a list. Apply exception handling technique\n",
        "%%writefile doc_file.txt\n",
        "The MS Word utility from Microsoft Office suite is one of the most commonly used tools for writing text documents, both simple and complex.\n",
        " Though humans can easily read and write MS Word documents, assuming you have the Office software installed, often times you need to read \n",
        " text from Word documents within another application."
      ],
      "execution_count": 12,
      "outputs": [
        {
          "output_type": "stream",
          "text": [
            "Overwriting doc_file.txt\n"
          ],
          "name": "stdout"
        }
      ]
    },
    {
      "cell_type": "code",
      "metadata": {
        "id": "OaXdsZsSMCXj",
        "outputId": "f4764b85-ffda-435a-e96e-ef2f0ab688f4",
        "colab": {
          "base_uri": "https://localhost:8080/",
          "height": 119
        }
      },
      "source": [
        "try:\n",
        "  file=open(\"doc_file.txt\",\"r\")\n",
        "  file.seek(0)\n",
        "  lines=file.readlines()\n",
        "  lst=[line for line in lines]\n",
        "  for i in lst:\n",
        "    print(i)\n",
        "except:\n",
        "  print(\"File can't be open...\")\n",
        "else:\n",
        "  print(\".\"*30,\"Finished\",\".\"*30)\n"
      ],
      "execution_count": 14,
      "outputs": [
        {
          "output_type": "stream",
          "text": [
            "The MS Word utility from Microsoft Office suite is one of the most commonly used tools for writing text documents, both simple and complex.\n",
            "\n",
            " Though humans can easily read and write MS Word documents, assuming you have the Office software installed, often times you need to read \n",
            "\n",
            " text from Word documents within another application.\n",
            ".............................. Finished ..............................\n"
          ],
          "name": "stdout"
        }
      ]
    },
    {
      "cell_type": "code",
      "metadata": {
        "id": "lLJ3B7QtMW7u",
        "outputId": "7ee66302-dca0-4272-e0ca-b4c063d492e7",
        "colab": {
          "base_uri": "https://localhost:8080/",
          "height": 136
        }
      },
      "source": [
        "#2.Write a Python program to write below list content to a file. Apply exception handling technique color = ['Red', 'Green', 'White', 'Black', 'Pink', 'Yellow']\n",
        "\n",
        "color = ['Red', 'Green', 'White', 'Black', 'Pink', 'Yellow']\n",
        "try:\n",
        "  fl=open('file.txt', 'w+')\n",
        "  for i in color:\n",
        "    fl.write(i)\n",
        "    fl.write(\"\\n\")\n",
        "except:\n",
        "  print(\"Not able to write into the file...\")\n",
        "fl.seek(0)\n",
        "print(fl.read())"
      ],
      "execution_count": 22,
      "outputs": [
        {
          "output_type": "stream",
          "text": [
            "Red\n",
            "Green\n",
            "White\n",
            "Black\n",
            "Pink\n",
            "Yellow\n",
            "\n"
          ],
          "name": "stdout"
        }
      ]
    },
    {
      "cell_type": "code",
      "metadata": {
        "id": "TIV93hk9MvMZ",
        "outputId": "7519017d-6417-4f17-f7da-8a11b8b66338",
        "colab": {
          "base_uri": "https://localhost:8080/",
          "height": 34
        }
      },
      "source": [
        "#3.create a txt file, enter multiple lines of text. remove newline characters from created file and print as a list. Apply exception handling techniques wherever possible\n",
        "\n",
        "%%writefile text_file.txt \n",
        "The MS Word utility from Microsoft Office suite is one of the most commonly used tools for writing text documents, both simple and complex.\n",
        "Though humans can easily read and write MS Word documents, assuming you have the Office software installed, often times you need to read\n",
        "text from Word documents within another application."
      ],
      "execution_count": 16,
      "outputs": [
        {
          "output_type": "stream",
          "text": [
            "Overwriting text_file.txt\n"
          ],
          "name": "stdout"
        }
      ]
    },
    {
      "cell_type": "code",
      "metadata": {
        "id": "jeyZtTUiNANw",
        "outputId": "e1a1596f-cea4-41e2-a8da-902f0875246e",
        "colab": {
          "base_uri": "https://localhost:8080/",
          "height": 54
        }
      },
      "source": [
        "try:\n",
        "  myfile=open(\"text_file.txt\")\n",
        "  lst1=[]\n",
        "  for i in myfile:\n",
        "    lst1.append(i.strip(\"\\n\")) \n",
        "  print(lst1)\n",
        "except:\n",
        "  print(\"Error..........\")"
      ],
      "execution_count": 17,
      "outputs": [
        {
          "output_type": "stream",
          "text": [
            "['The MS Word utility from Microsoft Office suite is one of the most commonly used tools for writing text documents, both simple and complex.', 'Though humans can easily read and write MS Word documents, assuming you have the Office software installed, often times you need to read', 'text from Word documents within another application.']\n"
          ],
          "name": "stdout"
        }
      ]
    },
    {
      "cell_type": "code",
      "metadata": {
        "id": "PoIlPMEmNXSw",
        "outputId": "e5928e80-f93e-4cbc-f517-1f920bc0975a",
        "colab": {
          "base_uri": "https://localhost:8080/",
          "height": 54
        }
      },
      "source": [
        "#4.create a testfile1.txt file, enter multiple lines of text . Now copy contents of testfile1.txt to new file testfile22.txt. Apply exception handling techniques wherever possible\n",
        "\n",
        "try:\n",
        "  fle1 = open(\"testfile1.txt\", \"w+\")\n",
        "  fle1.write(\"The MS Word utility from Microsoft Office suite is one of the most commonly used tools for writing text documents, both simple and complex. Though humans can easily read and write MS Word documents, assuming you have the Office software installed, often times you need to read text from Word documents within another application.\")\n",
        "  \n",
        "except:\n",
        "  print(\"Error...\")\n",
        "else:\n",
        "  fle1.seek(0)\n",
        "  mystr=fle1.read()\n",
        "  try:\n",
        "    fle2=open(\"testfile22.txt\",\"w+\")\n",
        "    fle2.write(mystr) \n",
        "    fle2.seek(0)\n",
        "    print(fle2.read())\n",
        "  except:\n",
        "    print(\"Not able to write into the file..\")"
      ],
      "execution_count": 19,
      "outputs": [
        {
          "output_type": "stream",
          "text": [
            "The MS Word utility from Microsoft Office suite is one of the most commonly used tools for writing text documents, both simple and complex. Though humans can easily read and write MS Word documents, assuming you have the Office software installed, often times you need to read text from Word documents within another application.\n"
          ],
          "name": "stdout"
        }
      ]
    }
  ]
}